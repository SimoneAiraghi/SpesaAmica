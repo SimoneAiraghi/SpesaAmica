{
 "cells": [
  {
   "cell_type": "markdown",
   "metadata": {
    "id": "hZl198Z3scVw"
   },
   "source": [
    "# Installing phase"
   ]
  },
  {
   "cell_type": "code",
   "execution_count": 16,
   "metadata": {
    "id": "ou426P0Y3lnE"
   },
   "outputs": [],
   "source": [
    "#Import libraries\n",
    "import pandas as pd\n",
    "import matplotlib.pyplot as plt\n",
    "import numpy as np\n",
    "from sklearn.preprocessing import RobustScaler, MinMaxScaler, StandardScaler"
   ]
  },
  {
   "cell_type": "markdown",
   "metadata": {
    "id": "pZrsLMv46AmJ"
   },
   "source": [
    "# Importing the Dataset"
   ]
  },
  {
   "cell_type": "code",
   "execution_count": 17,
   "metadata": {
    "colab": {
     "base_uri": "https://localhost:8080/",
     "height": 255
    },
    "id": "VXehw6ntujSm",
    "outputId": "61d5c9de-4b43-4881-a38c-6e238fce8d42"
   },
   "outputs": [
    {
     "data": {
      "text/html": [
       "<div>\n",
       "<style scoped>\n",
       "    .dataframe tbody tr th:only-of-type {\n",
       "        vertical-align: middle;\n",
       "    }\n",
       "\n",
       "    .dataframe tbody tr th {\n",
       "        vertical-align: top;\n",
       "    }\n",
       "\n",
       "    .dataframe thead th {\n",
       "        text-align: right;\n",
       "    }\n",
       "</style>\n",
       "<table border=\"1\" class=\"dataframe\">\n",
       "  <thead>\n",
       "    <tr style=\"text-align: right;\">\n",
       "      <th></th>\n",
       "      <th>age</th>\n",
       "      <th>gender</th>\n",
       "      <th>education</th>\n",
       "      <th>marital</th>\n",
       "      <th>income</th>\n",
       "      <th>phq_1</th>\n",
       "      <th>phq_2</th>\n",
       "      <th>phq_3</th>\n",
       "      <th>phq_4</th>\n",
       "      <th>phq_5</th>\n",
       "      <th>...</th>\n",
       "      <th>ccs_3</th>\n",
       "      <th>ccs_4</th>\n",
       "      <th>ccs_5</th>\n",
       "      <th>ccs_6</th>\n",
       "      <th>ccs_7</th>\n",
       "      <th>ccs_8</th>\n",
       "      <th>ccs_9</th>\n",
       "      <th>ccs_10</th>\n",
       "      <th>ccs_11</th>\n",
       "      <th>ccs_12</th>\n",
       "    </tr>\n",
       "  </thead>\n",
       "  <tbody>\n",
       "    <tr>\n",
       "      <th>0</th>\n",
       "      <td>42.0</td>\n",
       "      <td>1</td>\n",
       "      <td>5.0</td>\n",
       "      <td>1</td>\n",
       "      <td>18000</td>\n",
       "      <td>0</td>\n",
       "      <td>0.0</td>\n",
       "      <td>1.0</td>\n",
       "      <td>0</td>\n",
       "      <td>0</td>\n",
       "      <td>...</td>\n",
       "      <td>5.0</td>\n",
       "      <td>1.0</td>\n",
       "      <td>4.0</td>\n",
       "      <td>3.0</td>\n",
       "      <td>0</td>\n",
       "      <td>4</td>\n",
       "      <td>0</td>\n",
       "      <td>0</td>\n",
       "      <td>3</td>\n",
       "      <td>1</td>\n",
       "    </tr>\n",
       "    <tr>\n",
       "      <th>1</th>\n",
       "      <td>51.0</td>\n",
       "      <td>3</td>\n",
       "      <td>18.0</td>\n",
       "      <td>1</td>\n",
       "      <td>23000</td>\n",
       "      <td>0</td>\n",
       "      <td>0.0</td>\n",
       "      <td>0.0</td>\n",
       "      <td>0</td>\n",
       "      <td>0</td>\n",
       "      <td>...</td>\n",
       "      <td>3.0</td>\n",
       "      <td>6.0</td>\n",
       "      <td>6.0</td>\n",
       "      <td>1.0</td>\n",
       "      <td>0</td>\n",
       "      <td>1</td>\n",
       "      <td>4</td>\n",
       "      <td>0</td>\n",
       "      <td>3</td>\n",
       "      <td>6</td>\n",
       "    </tr>\n",
       "    <tr>\n",
       "      <th>2</th>\n",
       "      <td>40.0</td>\n",
       "      <td>0</td>\n",
       "      <td>8.0</td>\n",
       "      <td>1</td>\n",
       "      <td>10000</td>\n",
       "      <td>0</td>\n",
       "      <td>0.0</td>\n",
       "      <td>0.0</td>\n",
       "      <td>0</td>\n",
       "      <td>1</td>\n",
       "      <td>...</td>\n",
       "      <td>6.0</td>\n",
       "      <td>6.0</td>\n",
       "      <td>6.0</td>\n",
       "      <td>0.0</td>\n",
       "      <td>5</td>\n",
       "      <td>0</td>\n",
       "      <td>2</td>\n",
       "      <td>1</td>\n",
       "      <td>6</td>\n",
       "      <td>3</td>\n",
       "    </tr>\n",
       "    <tr>\n",
       "      <th>3</th>\n",
       "      <td>19.0</td>\n",
       "      <td>0</td>\n",
       "      <td>25.0</td>\n",
       "      <td>5</td>\n",
       "      <td>31000</td>\n",
       "      <td>2</td>\n",
       "      <td>1.0</td>\n",
       "      <td>0.0</td>\n",
       "      <td>0</td>\n",
       "      <td>2</td>\n",
       "      <td>...</td>\n",
       "      <td>6.0</td>\n",
       "      <td>4.0</td>\n",
       "      <td>0.0</td>\n",
       "      <td>4.0</td>\n",
       "      <td>6</td>\n",
       "      <td>0</td>\n",
       "      <td>1</td>\n",
       "      <td>1</td>\n",
       "      <td>0</td>\n",
       "      <td>4</td>\n",
       "    </tr>\n",
       "    <tr>\n",
       "      <th>4</th>\n",
       "      <td>42.0</td>\n",
       "      <td>2</td>\n",
       "      <td>13.0</td>\n",
       "      <td>1</td>\n",
       "      <td>40000</td>\n",
       "      <td>0</td>\n",
       "      <td>NaN</td>\n",
       "      <td>0.0</td>\n",
       "      <td>0</td>\n",
       "      <td>1</td>\n",
       "      <td>...</td>\n",
       "      <td>6.0</td>\n",
       "      <td>6.0</td>\n",
       "      <td>0.0</td>\n",
       "      <td>0.0</td>\n",
       "      <td>6</td>\n",
       "      <td>1</td>\n",
       "      <td>1</td>\n",
       "      <td>0</td>\n",
       "      <td>5</td>\n",
       "      <td>4</td>\n",
       "    </tr>\n",
       "  </tbody>\n",
       "</table>\n",
       "<p>5 rows × 54 columns</p>\n",
       "</div>"
      ],
      "text/plain": [
       "    age  gender  education  marital  income  phq_1  phq_2  phq_3  phq_4  \\\n",
       "0  42.0       1        5.0        1   18000      0    0.0    1.0      0   \n",
       "1  51.0       3       18.0        1   23000      0    0.0    0.0      0   \n",
       "2  40.0       0        8.0        1   10000      0    0.0    0.0      0   \n",
       "3  19.0       0       25.0        5   31000      2    1.0    0.0      0   \n",
       "4  42.0       2       13.0        1   40000      0    NaN    0.0      0   \n",
       "\n",
       "   phq_5  ...  ccs_3  ccs_4  ccs_5  ccs_6  ccs_7  ccs_8  ccs_9  ccs_10  \\\n",
       "0      0  ...    5.0    1.0    4.0    3.0      0      4      0       0   \n",
       "1      0  ...    3.0    6.0    6.0    1.0      0      1      4       0   \n",
       "2      1  ...    6.0    6.0    6.0    0.0      5      0      2       1   \n",
       "3      2  ...    6.0    4.0    0.0    4.0      6      0      1       1   \n",
       "4      1  ...    6.0    6.0    0.0    0.0      6      1      1       0   \n",
       "\n",
       "   ccs_11  ccs_12  \n",
       "0       3       1  \n",
       "1       3       6  \n",
       "2       6       3  \n",
       "3       0       4  \n",
       "4       5       4  \n",
       "\n",
       "[5 rows x 54 columns]"
      ]
     },
     "execution_count": 17,
     "metadata": {},
     "output_type": "execute_result"
    }
   ],
   "source": [
    "#Import Dataset\n",
    "df = pd.read_csv(\"dataset_project_eHealth20232024.csv\")\n",
    "df.head()"
   ]
  },
  {
   "cell_type": "markdown",
   "metadata": {
    "id": "jHu-dSKFD3W-"
   },
   "source": [
    "# Utils"
   ]
  },
  {
   "cell_type": "code",
   "execution_count": 18,
   "metadata": {
    "id": "_5NzBdM-wuQa"
   },
   "outputs": [],
   "source": [
    "#Replace nominal data with dummies and returns a new dataset\n",
    "def preprocess_nominalVariable(df):\n",
    "  df_one = pd.get_dummies(df[\"gender\"])\n",
    "  df_one.rename(\n",
    "    columns={0: \"male\", 1: \"female\", 2: \"non-binary\", 3: \"prefer-not-to-say\"},\n",
    "    inplace=True,\n",
    "  )\n",
    "  df_two = pd.get_dummies(df[\"marital\"])\n",
    "  df_two.rename(\n",
    "    columns={0: \"single\", 1: \"married\", 2: \"divorced\", 3: \"widowed\", 4: \"separeted\", 5: \"other\"},\n",
    "    inplace=True,\n",
    "  )\n",
    "  df_new = pd.concat((df_one, df_two, df), axis=1)\n",
    "  df_new = df_new.drop([\"gender\"], axis=1)\n",
    "  df_new = df_new.drop([\"marital\"], axis=1)\n",
    "  return df_new"
   ]
  },
  {
   "cell_type": "code",
   "execution_count": 19,
   "metadata": {
    "id": "YkseA6T7sQmo"
   },
   "outputs": [],
   "source": [
    "#Standardization's function\n",
    "def compute_scaled_df(df, cols_to_scale):\n",
    "    scaled_df = df.copy()\n",
    "    features = scaled_df[cols_to_scale]\n",
    "    scaler = RobustScaler().fit(features.values)\n",
    "    features = scaler.transform(features.values)\n",
    "    scaled_df[cols_to_scale] = features\n",
    "    return scaled_df, scaler"
   ]
  },
  {
   "cell_type": "code",
   "execution_count": 20,
   "metadata": {
    "id": "6549e173"
   },
   "outputs": [],
   "source": [
    "def scaled(df, cols_to_scale, scaler_type='robust'):\n",
    "    scaled_df = df.copy()\n",
    "    features = scaled_df[cols_to_scale]\n",
    "\n",
    "    if scaler_type == 'robust':\n",
    "        scaler = RobustScaler().fit(features.values)\n",
    "    elif scaler_type == 'minmax':\n",
    "        scaler = MinMaxScaler().fit(features.values)\n",
    "    else:\n",
    "        raise ValueError(\"Invalid scaler_type. Use 'robust' or 'minmax'.\")\n",
    "\n",
    "    features = scaler.transform(features.values)\n",
    "    scaled_df[cols_to_scale] = features\n",
    "\n",
    "    return scaled_df, scaler\n"
   ]
  },
  {
   "cell_type": "code",
   "execution_count": 21,
   "metadata": {
    "id": "ef7e0610"
   },
   "outputs": [],
   "source": [
    "#Functions that is used to reverse the score of ccs' features\n",
    "def reverseScore(df, cols_to_reverse, max):\n",
    "  df_new = df.copy()\n",
    "  for col in cols_to_reverse:\n",
    "    values = df_new[col]\n",
    "    new_values = []\n",
    "    for val in values:\n",
    "      new_values.append(max - val)\n",
    "    df_new[col] = new_values\n",
    "  return df_new"
   ]
  },
  {
   "cell_type": "code",
   "execution_count": 22,
   "metadata": {
    "id": "-w3Ky3vaGkVE"
   },
   "outputs": [],
   "source": [
    "#Corrects out-of-scale values\n",
    "def checkExtreme(df, col, min, max):\n",
    "  df.loc[df.loc[df[col] < min].index, col] = min\n",
    "  df.loc[df.loc[df[col] > max].index, col] = max"
   ]
  },
  {
   "cell_type": "code",
   "execution_count": 23,
   "metadata": {
    "id": "DPAcf99c5Vkf"
   },
   "outputs": [],
   "source": [
    "def find_NaN_indexes(df):\n",
    "  row_ids = []\n",
    "  for col in df:\n",
    "    for index in df[df[col].isnull()].index.values:\n",
    "        row_ids.append((index, col))\n",
    "  return row_ids"
   ]
  },
  {
   "cell_type": "markdown",
   "metadata": {
    "id": "9ull1LJi_sXM"
   },
   "source": [
    "# Data Cleaning"
   ]
  },
  {
   "cell_type": "markdown",
   "metadata": {
    "id": "K2jFzPiRALdz"
   },
   "source": [
    "## Removing Duplicates"
   ]
  },
  {
   "cell_type": "markdown",
   "metadata": {
    "id": "fdb6fa19"
   },
   "source": [
    "Analyze the dataset in order to see if there are duplicates values"
   ]
  },
  {
   "cell_type": "code",
   "execution_count": 24,
   "metadata": {
    "colab": {
     "base_uri": "https://localhost:8080/",
     "height": 412
    },
    "id": "ZwJpze3J_3k7",
    "outputId": "f2938b68-330a-4011-88d8-dbf5de1336c0"
   },
   "outputs": [
    {
     "data": {
      "text/html": [
       "<div>\n",
       "<style scoped>\n",
       "    .dataframe tbody tr th:only-of-type {\n",
       "        vertical-align: middle;\n",
       "    }\n",
       "\n",
       "    .dataframe tbody tr th {\n",
       "        vertical-align: top;\n",
       "    }\n",
       "\n",
       "    .dataframe thead th {\n",
       "        text-align: right;\n",
       "    }\n",
       "</style>\n",
       "<table border=\"1\" class=\"dataframe\">\n",
       "  <thead>\n",
       "    <tr style=\"text-align: right;\">\n",
       "      <th></th>\n",
       "      <th>age</th>\n",
       "      <th>gender</th>\n",
       "      <th>education</th>\n",
       "      <th>marital</th>\n",
       "      <th>income</th>\n",
       "      <th>phq_1</th>\n",
       "      <th>phq_2</th>\n",
       "      <th>phq_3</th>\n",
       "      <th>phq_4</th>\n",
       "      <th>phq_5</th>\n",
       "      <th>...</th>\n",
       "      <th>ccs_3</th>\n",
       "      <th>ccs_4</th>\n",
       "      <th>ccs_5</th>\n",
       "      <th>ccs_6</th>\n",
       "      <th>ccs_7</th>\n",
       "      <th>ccs_8</th>\n",
       "      <th>ccs_9</th>\n",
       "      <th>ccs_10</th>\n",
       "      <th>ccs_11</th>\n",
       "      <th>ccs_12</th>\n",
       "    </tr>\n",
       "  </thead>\n",
       "  <tbody>\n",
       "    <tr>\n",
       "      <th>76</th>\n",
       "      <td>36.0</td>\n",
       "      <td>3</td>\n",
       "      <td>13.0</td>\n",
       "      <td>1</td>\n",
       "      <td>26000</td>\n",
       "      <td>0</td>\n",
       "      <td>0.0</td>\n",
       "      <td>2.0</td>\n",
       "      <td>0</td>\n",
       "      <td>0</td>\n",
       "      <td>...</td>\n",
       "      <td>4.0</td>\n",
       "      <td>1.0</td>\n",
       "      <td>0.0</td>\n",
       "      <td>3.0</td>\n",
       "      <td>0</td>\n",
       "      <td>0</td>\n",
       "      <td>3</td>\n",
       "      <td>4</td>\n",
       "      <td>0</td>\n",
       "      <td>6</td>\n",
       "    </tr>\n",
       "    <tr>\n",
       "      <th>87</th>\n",
       "      <td>52.0</td>\n",
       "      <td>1</td>\n",
       "      <td>18.0</td>\n",
       "      <td>1</td>\n",
       "      <td>28000</td>\n",
       "      <td>2</td>\n",
       "      <td>2.0</td>\n",
       "      <td>1.0</td>\n",
       "      <td>1</td>\n",
       "      <td>1</td>\n",
       "      <td>...</td>\n",
       "      <td>6.0</td>\n",
       "      <td>3.0</td>\n",
       "      <td>0.0</td>\n",
       "      <td>6.0</td>\n",
       "      <td>5</td>\n",
       "      <td>0</td>\n",
       "      <td>0</td>\n",
       "      <td>3</td>\n",
       "      <td>5</td>\n",
       "      <td>6</td>\n",
       "    </tr>\n",
       "    <tr>\n",
       "      <th>91</th>\n",
       "      <td>44.0</td>\n",
       "      <td>0</td>\n",
       "      <td>13.0</td>\n",
       "      <td>4</td>\n",
       "      <td>15000</td>\n",
       "      <td>1</td>\n",
       "      <td>1.0</td>\n",
       "      <td>0.0</td>\n",
       "      <td>1</td>\n",
       "      <td>0</td>\n",
       "      <td>...</td>\n",
       "      <td>3.0</td>\n",
       "      <td>0.0</td>\n",
       "      <td>4.0</td>\n",
       "      <td>2.0</td>\n",
       "      <td>6</td>\n",
       "      <td>6</td>\n",
       "      <td>2</td>\n",
       "      <td>1</td>\n",
       "      <td>6</td>\n",
       "      <td>4</td>\n",
       "    </tr>\n",
       "    <tr>\n",
       "      <th>94</th>\n",
       "      <td>42.0</td>\n",
       "      <td>2</td>\n",
       "      <td>13.0</td>\n",
       "      <td>1</td>\n",
       "      <td>40000</td>\n",
       "      <td>0</td>\n",
       "      <td>NaN</td>\n",
       "      <td>0.0</td>\n",
       "      <td>0</td>\n",
       "      <td>1</td>\n",
       "      <td>...</td>\n",
       "      <td>6.0</td>\n",
       "      <td>6.0</td>\n",
       "      <td>0.0</td>\n",
       "      <td>0.0</td>\n",
       "      <td>6</td>\n",
       "      <td>1</td>\n",
       "      <td>1</td>\n",
       "      <td>0</td>\n",
       "      <td>5</td>\n",
       "      <td>4</td>\n",
       "    </tr>\n",
       "    <tr>\n",
       "      <th>106</th>\n",
       "      <td>42.0</td>\n",
       "      <td>2</td>\n",
       "      <td>13.0</td>\n",
       "      <td>1</td>\n",
       "      <td>40000</td>\n",
       "      <td>0</td>\n",
       "      <td>NaN</td>\n",
       "      <td>0.0</td>\n",
       "      <td>0</td>\n",
       "      <td>1</td>\n",
       "      <td>...</td>\n",
       "      <td>6.0</td>\n",
       "      <td>6.0</td>\n",
       "      <td>0.0</td>\n",
       "      <td>0.0</td>\n",
       "      <td>6</td>\n",
       "      <td>1</td>\n",
       "      <td>1</td>\n",
       "      <td>0</td>\n",
       "      <td>5</td>\n",
       "      <td>4</td>\n",
       "    </tr>\n",
       "    <tr>\n",
       "      <th>107</th>\n",
       "      <td>28.0</td>\n",
       "      <td>3</td>\n",
       "      <td>25.0</td>\n",
       "      <td>0</td>\n",
       "      <td>38000</td>\n",
       "      <td>0</td>\n",
       "      <td>0.0</td>\n",
       "      <td>2.0</td>\n",
       "      <td>1</td>\n",
       "      <td>0</td>\n",
       "      <td>...</td>\n",
       "      <td>6.0</td>\n",
       "      <td>0.0</td>\n",
       "      <td>0.0</td>\n",
       "      <td>6.0</td>\n",
       "      <td>4</td>\n",
       "      <td>3</td>\n",
       "      <td>0</td>\n",
       "      <td>5</td>\n",
       "      <td>1</td>\n",
       "      <td>6</td>\n",
       "    </tr>\n",
       "    <tr>\n",
       "      <th>119</th>\n",
       "      <td>27.0</td>\n",
       "      <td>3</td>\n",
       "      <td>13.0</td>\n",
       "      <td>0</td>\n",
       "      <td>25000</td>\n",
       "      <td>0</td>\n",
       "      <td>1.0</td>\n",
       "      <td>1.0</td>\n",
       "      <td>0</td>\n",
       "      <td>2</td>\n",
       "      <td>...</td>\n",
       "      <td>5.0</td>\n",
       "      <td>5.0</td>\n",
       "      <td>0.0</td>\n",
       "      <td>6.0</td>\n",
       "      <td>6</td>\n",
       "      <td>0</td>\n",
       "      <td>1</td>\n",
       "      <td>0</td>\n",
       "      <td>2</td>\n",
       "      <td>6</td>\n",
       "    </tr>\n",
       "    <tr>\n",
       "      <th>130</th>\n",
       "      <td>49.0</td>\n",
       "      <td>0</td>\n",
       "      <td>5.0</td>\n",
       "      <td>1</td>\n",
       "      <td>25000</td>\n",
       "      <td>1</td>\n",
       "      <td>1.0</td>\n",
       "      <td>0.0</td>\n",
       "      <td>0</td>\n",
       "      <td>0</td>\n",
       "      <td>...</td>\n",
       "      <td>3.0</td>\n",
       "      <td>2.0</td>\n",
       "      <td>6.0</td>\n",
       "      <td>5.0</td>\n",
       "      <td>2</td>\n",
       "      <td>1</td>\n",
       "      <td>6</td>\n",
       "      <td>2</td>\n",
       "      <td>6</td>\n",
       "      <td>6</td>\n",
       "    </tr>\n",
       "    <tr>\n",
       "      <th>152</th>\n",
       "      <td>49.0</td>\n",
       "      <td>3</td>\n",
       "      <td>13.0</td>\n",
       "      <td>1</td>\n",
       "      <td>31000</td>\n",
       "      <td>0</td>\n",
       "      <td>0.0</td>\n",
       "      <td>1.0</td>\n",
       "      <td>0</td>\n",
       "      <td>0</td>\n",
       "      <td>...</td>\n",
       "      <td>6.0</td>\n",
       "      <td>5.0</td>\n",
       "      <td>0.0</td>\n",
       "      <td>3.0</td>\n",
       "      <td>0</td>\n",
       "      <td>0</td>\n",
       "      <td>1</td>\n",
       "      <td>0</td>\n",
       "      <td>0</td>\n",
       "      <td>5</td>\n",
       "    </tr>\n",
       "    <tr>\n",
       "      <th>153</th>\n",
       "      <td>36.0</td>\n",
       "      <td>2</td>\n",
       "      <td>13.0</td>\n",
       "      <td>1</td>\n",
       "      <td>21000</td>\n",
       "      <td>0</td>\n",
       "      <td>0.0</td>\n",
       "      <td>1.0</td>\n",
       "      <td>0</td>\n",
       "      <td>0</td>\n",
       "      <td>...</td>\n",
       "      <td>1.0</td>\n",
       "      <td>0.0</td>\n",
       "      <td>5.0</td>\n",
       "      <td>0.0</td>\n",
       "      <td>3</td>\n",
       "      <td>6</td>\n",
       "      <td>0</td>\n",
       "      <td>1</td>\n",
       "      <td>3</td>\n",
       "      <td>6</td>\n",
       "    </tr>\n",
       "  </tbody>\n",
       "</table>\n",
       "<p>10 rows × 54 columns</p>\n",
       "</div>"
      ],
      "text/plain": [
       "      age  gender  education  marital  income  phq_1  phq_2  phq_3  phq_4  \\\n",
       "76   36.0       3       13.0        1   26000      0    0.0    2.0      0   \n",
       "87   52.0       1       18.0        1   28000      2    2.0    1.0      1   \n",
       "91   44.0       0       13.0        4   15000      1    1.0    0.0      1   \n",
       "94   42.0       2       13.0        1   40000      0    NaN    0.0      0   \n",
       "106  42.0       2       13.0        1   40000      0    NaN    0.0      0   \n",
       "107  28.0       3       25.0        0   38000      0    0.0    2.0      1   \n",
       "119  27.0       3       13.0        0   25000      0    1.0    1.0      0   \n",
       "130  49.0       0        5.0        1   25000      1    1.0    0.0      0   \n",
       "152  49.0       3       13.0        1   31000      0    0.0    1.0      0   \n",
       "153  36.0       2       13.0        1   21000      0    0.0    1.0      0   \n",
       "\n",
       "     phq_5  ...  ccs_3  ccs_4  ccs_5  ccs_6  ccs_7  ccs_8  ccs_9  ccs_10  \\\n",
       "76       0  ...    4.0    1.0    0.0    3.0      0      0      3       4   \n",
       "87       1  ...    6.0    3.0    0.0    6.0      5      0      0       3   \n",
       "91       0  ...    3.0    0.0    4.0    2.0      6      6      2       1   \n",
       "94       1  ...    6.0    6.0    0.0    0.0      6      1      1       0   \n",
       "106      1  ...    6.0    6.0    0.0    0.0      6      1      1       0   \n",
       "107      0  ...    6.0    0.0    0.0    6.0      4      3      0       5   \n",
       "119      2  ...    5.0    5.0    0.0    6.0      6      0      1       0   \n",
       "130      0  ...    3.0    2.0    6.0    5.0      2      1      6       2   \n",
       "152      0  ...    6.0    5.0    0.0    3.0      0      0      1       0   \n",
       "153      0  ...    1.0    0.0    5.0    0.0      3      6      0       1   \n",
       "\n",
       "     ccs_11  ccs_12  \n",
       "76        0       6  \n",
       "87        5       6  \n",
       "91        6       4  \n",
       "94        5       4  \n",
       "106       5       4  \n",
       "107       1       6  \n",
       "119       2       6  \n",
       "130       6       6  \n",
       "152       0       5  \n",
       "153       3       6  \n",
       "\n",
       "[10 rows x 54 columns]"
      ]
     },
     "execution_count": 24,
     "metadata": {},
     "output_type": "execute_result"
    }
   ],
   "source": [
    "df[df.duplicated()]"
   ]
  },
  {
   "cell_type": "code",
   "execution_count": 25,
   "metadata": {
    "colab": {
     "base_uri": "https://localhost:8080/"
    },
    "id": "1G9rU1dY_7Zq",
    "outputId": "313d83a6-a955-464a-cbc1-4df08164d59c"
   },
   "outputs": [
    {
     "name": "stdout",
     "output_type": "stream",
     "text": [
      "(150, 54)\n"
     ]
    }
   ],
   "source": [
    "df.drop_duplicates(inplace=True)\n",
    "print(df.shape)"
   ]
  },
  {
   "cell_type": "markdown",
   "metadata": {
    "id": "fbfc66fe"
   },
   "source": [
    "## Standardization"
   ]
  },
  {
   "cell_type": "markdown",
   "metadata": {
    "id": "d07b2e63"
   },
   "source": [
    "We made standardization at the beginning because, as we read in the literature, it is necessary for KNN imputer"
   ]
  },
  {
   "cell_type": "code",
   "execution_count": 26,
   "metadata": {
    "id": "gwNttTwQSHE1"
   },
   "outputs": [],
   "source": [
    "cols_to_scale = ['age', 'education', 'income', 'phq_1', 'phq_2',\n",
    "       'phq_3', 'phq_4', 'phq_5', 'phq_6', 'phq_7', 'phq_8', 'phq_9', 'gad_1',\n",
    "       'gad_2', 'gad_3', 'gad_4', 'gad_5', 'gad_6', 'gad_7', 'eheals_1',\n",
    "       'eheals_2', 'eheals_3', 'eheals_4', 'eheals_5', 'eheals_6', 'eheals_7',\n",
    "       'eheals_8', 'heas_1', 'heas_2', 'heas_3', 'heas_4', 'heas_5', 'heas_6',\n",
    "       'heas_7', 'heas_8', 'heas_9', 'heas_10', 'heas_11', 'heas_12',\n",
    "       'heas_13', 'ccs_1', 'ccs_2', 'ccs_3', 'ccs_4', 'ccs_5', 'ccs_6',\n",
    "       'ccs_7', 'ccs_8', 'ccs_9', 'ccs_10', 'ccs_11', 'ccs_12']"
   ]
  },
  {
   "cell_type": "code",
   "execution_count": 27,
   "metadata": {
    "id": "Me36LQ5nfNw6"
   },
   "outputs": [],
   "source": [
    "#Copy the dataset\n",
    "df_in = df.copy()\n",
    "#Tranform the categorical variables into dummies\n",
    "df = preprocess_nominalVariable(df)"
   ]
  },
  {
   "cell_type": "code",
   "execution_count": 28,
   "metadata": {
    "id": "0IEE-bPFR-n-"
   },
   "outputs": [],
   "source": [
    "df, scaler = compute_scaled_df(df, cols_to_scale)"
   ]
  },
  {
   "cell_type": "code",
   "execution_count": 29,
   "metadata": {
    "id": "08123a20"
   },
   "outputs": [],
   "source": [
    "#Robust Scaler\n",
    "#df, scaler = scaled(df, cols_to_scale, scaler_type='robust'):"
   ]
  },
  {
   "cell_type": "code",
   "execution_count": 30,
   "metadata": {
    "id": "df7a231e"
   },
   "outputs": [],
   "source": [
    "#Min max method\n",
    "#df, scaler = scaled(df, cols_to_scale, scaler_type='minmax'):"
   ]
  },
  {
   "cell_type": "markdown",
   "metadata": {
    "id": "24dc6cbf"
   },
   "source": [
    "## Missing Values"
   ]
  },
  {
   "cell_type": "markdown",
   "metadata": {
    "id": "8a5c2d71"
   },
   "source": [
    "Substitution of the missing value by using Knn Imputer"
   ]
  },
  {
   "cell_type": "code",
   "execution_count": 31,
   "metadata": {
    "id": "8FAEVkC6gBiS"
   },
   "outputs": [],
   "source": [
    "from sklearn.impute import KNNImputer\n",
    "\n",
    "# Creating a KNNImputer object with the desired k value\n",
    "imputer = KNNImputer(n_neighbors=5)\n",
    "\n",
    "# Adapting the imputer to data with missing values\n",
    "rs_df = df.copy()\n",
    "features = df[df.columns]\n",
    "features = imputer.fit_transform(df)\n",
    "rs_df[df.columns] = features"
   ]
  },
  {
   "cell_type": "code",
   "execution_count": 32,
   "metadata": {
    "colab": {
     "base_uri": "https://localhost:8080/"
    },
    "id": "wAYlflVxCD5H",
    "outputId": "d3abc036-4f54-4cf1-c2e4-61202ca874d9"
   },
   "outputs": [
    {
     "data": {
      "text/plain": [
       "[(56, 'age'),\n",
       " (77, 'education'),\n",
       " (4, 'phq_2'),\n",
       " (59, 'phq_2'),\n",
       " (158, 'phq_2'),\n",
       " (77, 'phq_3'),\n",
       " (32, 'phq_7'),\n",
       " (44, 'phq_8'),\n",
       " (39, 'phq_9'),\n",
       " (57, 'gad_1'),\n",
       " (101, 'gad_3'),\n",
       " (22, 'gad_4'),\n",
       " (62, 'gad_5'),\n",
       " (36, 'gad_6'),\n",
       " (154, 'gad_7'),\n",
       " (9, 'eheals_1'),\n",
       " (25, 'eheals_1'),\n",
       " (0, 'eheals_2'),\n",
       " (33, 'eheals_2'),\n",
       " (70, 'eheals_2'),\n",
       " (142, 'eheals_2'),\n",
       " (81, 'eheals_3'),\n",
       " (108, 'eheals_3'),\n",
       " (11, 'eheals_4'),\n",
       " (135, 'eheals_4'),\n",
       " (24, 'eheals_5'),\n",
       " (27, 'eheals_5'),\n",
       " (148, 'eheals_8'),\n",
       " (127, 'heas_1'),\n",
       " (89, 'heas_2'),\n",
       " (126, 'heas_3'),\n",
       " (129, 'heas_3'),\n",
       " (80, 'heas_9'),\n",
       " (103, 'heas_10'),\n",
       " (148, 'heas_10'),\n",
       " (6, 'heas_12'),\n",
       " (66, 'heas_12'),\n",
       " (55, 'heas_13'),\n",
       " (15, 'ccs_1'),\n",
       " (37, 'ccs_1'),\n",
       " (126, 'ccs_3'),\n",
       " (51, 'ccs_4'),\n",
       " (90, 'ccs_4'),\n",
       " (105, 'ccs_4'),\n",
       " (125, 'ccs_4'),\n",
       " (31, 'ccs_5'),\n",
       " (95, 'ccs_5'),\n",
       " (13, 'ccs_6'),\n",
       " (86, 'ccs_6'),\n",
       " (127, 'ccs_6')]"
      ]
     },
     "execution_count": 32,
     "metadata": {},
     "output_type": "execute_result"
    }
   ],
   "source": [
    "#Nan values before the KNNImputer\n",
    "find_NaN_indexes(df)"
   ]
  },
  {
   "cell_type": "code",
   "execution_count": 33,
   "metadata": {
    "colab": {
     "base_uri": "https://localhost:8080/"
    },
    "id": "YlPQQNs7b0A3",
    "outputId": "667c0a48-c24e-41a6-eec4-8ca4a434f198"
   },
   "outputs": [
    {
     "data": {
      "text/plain": [
       "[]"
      ]
     },
     "execution_count": 33,
     "metadata": {},
     "output_type": "execute_result"
    }
   ],
   "source": [
    "#Nan values after the KNNImputer\n",
    "find_NaN_indexes(rs_df)"
   ]
  },
  {
   "cell_type": "code",
   "execution_count": 34,
   "metadata": {
    "colab": {
     "base_uri": "https://localhost:8080/",
     "height": 164
    },
    "id": "ZJdWw79dC57-",
    "outputId": "bb4a289f-1ae3-47d8-a03f-4b0d94d819f5"
   },
   "outputs": [
    {
     "data": {
      "text/html": [
       "<div>\n",
       "<style scoped>\n",
       "    .dataframe tbody tr th:only-of-type {\n",
       "        vertical-align: middle;\n",
       "    }\n",
       "\n",
       "    .dataframe tbody tr th {\n",
       "        vertical-align: top;\n",
       "    }\n",
       "\n",
       "    .dataframe thead th {\n",
       "        text-align: right;\n",
       "    }\n",
       "</style>\n",
       "<table border=\"1\" class=\"dataframe\">\n",
       "  <thead>\n",
       "    <tr style=\"text-align: right;\">\n",
       "      <th></th>\n",
       "      <th>male</th>\n",
       "      <th>female</th>\n",
       "      <th>non-binary</th>\n",
       "      <th>prefer-not-to-say</th>\n",
       "      <th>single</th>\n",
       "      <th>married</th>\n",
       "      <th>divorced</th>\n",
       "      <th>widowed</th>\n",
       "      <th>separeted</th>\n",
       "      <th>other</th>\n",
       "      <th>...</th>\n",
       "      <th>ccs_3</th>\n",
       "      <th>ccs_4</th>\n",
       "      <th>ccs_5</th>\n",
       "      <th>ccs_6</th>\n",
       "      <th>ccs_7</th>\n",
       "      <th>ccs_8</th>\n",
       "      <th>ccs_9</th>\n",
       "      <th>ccs_10</th>\n",
       "      <th>ccs_11</th>\n",
       "      <th>ccs_12</th>\n",
       "    </tr>\n",
       "  </thead>\n",
       "  <tbody>\n",
       "    <tr>\n",
       "      <th>0</th>\n",
       "      <td>0.0</td>\n",
       "      <td>1.0</td>\n",
       "      <td>0.0</td>\n",
       "      <td>0.0</td>\n",
       "      <td>0.0</td>\n",
       "      <td>1.0</td>\n",
       "      <td>0.0</td>\n",
       "      <td>0.0</td>\n",
       "      <td>0.0</td>\n",
       "      <td>0.0</td>\n",
       "      <td>...</td>\n",
       "      <td>0.0</td>\n",
       "      <td>-0.25</td>\n",
       "      <td>1.5</td>\n",
       "      <td>-0.5</td>\n",
       "      <td>-1.0</td>\n",
       "      <td>0.75</td>\n",
       "      <td>-0.333333</td>\n",
       "      <td>-0.333333</td>\n",
       "      <td>0.4</td>\n",
       "      <td>-2.0</td>\n",
       "    </tr>\n",
       "  </tbody>\n",
       "</table>\n",
       "<p>1 rows × 62 columns</p>\n",
       "</div>"
      ],
      "text/plain": [
       "   male  female  non-binary  prefer-not-to-say  single  married  divorced  \\\n",
       "0   0.0     1.0         0.0                0.0     0.0      1.0       0.0   \n",
       "\n",
       "   widowed  separeted  other  ...  ccs_3  ccs_4  ccs_5  ccs_6  ccs_7  ccs_8  \\\n",
       "0      0.0        0.0    0.0  ...    0.0  -0.25    1.5   -0.5   -1.0   0.75   \n",
       "\n",
       "      ccs_9    ccs_10  ccs_11  ccs_12  \n",
       "0 -0.333333 -0.333333     0.4    -2.0  \n",
       "\n",
       "[1 rows x 62 columns]"
      ]
     },
     "execution_count": 34,
     "metadata": {},
     "output_type": "execute_result"
    }
   ],
   "source": [
    "rs_df.head(1)"
   ]
  },
  {
   "cell_type": "code",
   "execution_count": 35,
   "metadata": {
    "id": "Y_akskaGCw1Y"
   },
   "outputs": [],
   "source": [
    "#Inverse the Standardization\n",
    "features = rs_df[cols_to_scale]\n",
    "features = scaler.inverse_transform(features.values)\n",
    "rs_df[cols_to_scale] = features\n",
    "\n",
    "#Remove the dummies\n",
    "df_in[cols_to_scale] = rs_df[cols_to_scale]"
   ]
  },
  {
   "cell_type": "code",
   "execution_count": 36,
   "metadata": {
    "colab": {
     "base_uri": "https://localhost:8080/",
     "height": 130
    },
    "id": "RzRI7PXsC-LE",
    "outputId": "cf110f0e-f2c2-49cf-84e8-5e31c02bf4c6"
   },
   "outputs": [
    {
     "data": {
      "text/html": [
       "<div>\n",
       "<style scoped>\n",
       "    .dataframe tbody tr th:only-of-type {\n",
       "        vertical-align: middle;\n",
       "    }\n",
       "\n",
       "    .dataframe tbody tr th {\n",
       "        vertical-align: top;\n",
       "    }\n",
       "\n",
       "    .dataframe thead th {\n",
       "        text-align: right;\n",
       "    }\n",
       "</style>\n",
       "<table border=\"1\" class=\"dataframe\">\n",
       "  <thead>\n",
       "    <tr style=\"text-align: right;\">\n",
       "      <th></th>\n",
       "      <th>age</th>\n",
       "      <th>gender</th>\n",
       "      <th>education</th>\n",
       "      <th>marital</th>\n",
       "      <th>income</th>\n",
       "      <th>phq_1</th>\n",
       "      <th>phq_2</th>\n",
       "      <th>phq_3</th>\n",
       "      <th>phq_4</th>\n",
       "      <th>phq_5</th>\n",
       "      <th>...</th>\n",
       "      <th>ccs_3</th>\n",
       "      <th>ccs_4</th>\n",
       "      <th>ccs_5</th>\n",
       "      <th>ccs_6</th>\n",
       "      <th>ccs_7</th>\n",
       "      <th>ccs_8</th>\n",
       "      <th>ccs_9</th>\n",
       "      <th>ccs_10</th>\n",
       "      <th>ccs_11</th>\n",
       "      <th>ccs_12</th>\n",
       "    </tr>\n",
       "  </thead>\n",
       "  <tbody>\n",
       "    <tr>\n",
       "      <th>0</th>\n",
       "      <td>42.0</td>\n",
       "      <td>1</td>\n",
       "      <td>5.0</td>\n",
       "      <td>1</td>\n",
       "      <td>18000.0</td>\n",
       "      <td>0.0</td>\n",
       "      <td>0.0</td>\n",
       "      <td>1.0</td>\n",
       "      <td>0.0</td>\n",
       "      <td>0.0</td>\n",
       "      <td>...</td>\n",
       "      <td>5.0</td>\n",
       "      <td>1.0</td>\n",
       "      <td>4.0</td>\n",
       "      <td>3.0</td>\n",
       "      <td>0.0</td>\n",
       "      <td>4.0</td>\n",
       "      <td>0.0</td>\n",
       "      <td>0.0</td>\n",
       "      <td>3.0</td>\n",
       "      <td>1.0</td>\n",
       "    </tr>\n",
       "  </tbody>\n",
       "</table>\n",
       "<p>1 rows × 54 columns</p>\n",
       "</div>"
      ],
      "text/plain": [
       "    age  gender  education  marital   income  phq_1  phq_2  phq_3  phq_4  \\\n",
       "0  42.0       1        5.0        1  18000.0    0.0    0.0    1.0    0.0   \n",
       "\n",
       "   phq_5  ...  ccs_3  ccs_4  ccs_5  ccs_6  ccs_7  ccs_8  ccs_9  ccs_10  \\\n",
       "0    0.0  ...    5.0    1.0    4.0    3.0    0.0    4.0    0.0     0.0   \n",
       "\n",
       "   ccs_11  ccs_12  \n",
       "0     3.0     1.0  \n",
       "\n",
       "[1 rows x 54 columns]"
      ]
     },
     "execution_count": 36,
     "metadata": {},
     "output_type": "execute_result"
    }
   ],
   "source": [
    "df_in.head(1)"
   ]
  },
  {
   "cell_type": "markdown",
   "metadata": {
    "id": "e72f61f9"
   },
   "source": [
    "# Explanatory Data Analysis"
   ]
  },
  {
   "cell_type": "code",
   "execution_count": 37,
   "metadata": {
    "colab": {
     "base_uri": "https://localhost:8080/",
     "height": 255
    },
    "id": "W9gF5j-V4k0o",
    "outputId": "d9b75cb0-b3d4-45c0-f079-4368549e9ea6"
   },
   "outputs": [
    {
     "data": {
      "text/html": [
       "<div>\n",
       "<style scoped>\n",
       "    .dataframe tbody tr th:only-of-type {\n",
       "        vertical-align: middle;\n",
       "    }\n",
       "\n",
       "    .dataframe tbody tr th {\n",
       "        vertical-align: top;\n",
       "    }\n",
       "\n",
       "    .dataframe thead th {\n",
       "        text-align: right;\n",
       "    }\n",
       "</style>\n",
       "<table border=\"1\" class=\"dataframe\">\n",
       "  <thead>\n",
       "    <tr style=\"text-align: right;\">\n",
       "      <th></th>\n",
       "      <th>age</th>\n",
       "      <th>gender</th>\n",
       "      <th>education</th>\n",
       "      <th>marital</th>\n",
       "      <th>income</th>\n",
       "      <th>phq_1</th>\n",
       "      <th>phq_2</th>\n",
       "      <th>phq_3</th>\n",
       "      <th>phq_4</th>\n",
       "      <th>phq_5</th>\n",
       "      <th>...</th>\n",
       "      <th>ccs_3</th>\n",
       "      <th>ccs_4</th>\n",
       "      <th>ccs_5</th>\n",
       "      <th>ccs_6</th>\n",
       "      <th>ccs_7</th>\n",
       "      <th>ccs_8</th>\n",
       "      <th>ccs_9</th>\n",
       "      <th>ccs_10</th>\n",
       "      <th>ccs_11</th>\n",
       "      <th>ccs_12</th>\n",
       "    </tr>\n",
       "  </thead>\n",
       "  <tbody>\n",
       "    <tr>\n",
       "      <th>0</th>\n",
       "      <td>42.0</td>\n",
       "      <td>1</td>\n",
       "      <td>5.0</td>\n",
       "      <td>1</td>\n",
       "      <td>18000.0</td>\n",
       "      <td>0.0</td>\n",
       "      <td>0.0</td>\n",
       "      <td>1.0</td>\n",
       "      <td>0.0</td>\n",
       "      <td>0.0</td>\n",
       "      <td>...</td>\n",
       "      <td>5.0</td>\n",
       "      <td>1.0</td>\n",
       "      <td>4.0</td>\n",
       "      <td>3.0</td>\n",
       "      <td>0.0</td>\n",
       "      <td>4.0</td>\n",
       "      <td>0.0</td>\n",
       "      <td>0.0</td>\n",
       "      <td>3.0</td>\n",
       "      <td>1.0</td>\n",
       "    </tr>\n",
       "    <tr>\n",
       "      <th>1</th>\n",
       "      <td>51.0</td>\n",
       "      <td>3</td>\n",
       "      <td>18.0</td>\n",
       "      <td>1</td>\n",
       "      <td>23000.0</td>\n",
       "      <td>0.0</td>\n",
       "      <td>0.0</td>\n",
       "      <td>0.0</td>\n",
       "      <td>0.0</td>\n",
       "      <td>0.0</td>\n",
       "      <td>...</td>\n",
       "      <td>3.0</td>\n",
       "      <td>6.0</td>\n",
       "      <td>6.0</td>\n",
       "      <td>1.0</td>\n",
       "      <td>0.0</td>\n",
       "      <td>1.0</td>\n",
       "      <td>4.0</td>\n",
       "      <td>0.0</td>\n",
       "      <td>3.0</td>\n",
       "      <td>6.0</td>\n",
       "    </tr>\n",
       "    <tr>\n",
       "      <th>2</th>\n",
       "      <td>40.0</td>\n",
       "      <td>0</td>\n",
       "      <td>8.0</td>\n",
       "      <td>1</td>\n",
       "      <td>10000.0</td>\n",
       "      <td>0.0</td>\n",
       "      <td>0.0</td>\n",
       "      <td>0.0</td>\n",
       "      <td>0.0</td>\n",
       "      <td>1.0</td>\n",
       "      <td>...</td>\n",
       "      <td>6.0</td>\n",
       "      <td>6.0</td>\n",
       "      <td>6.0</td>\n",
       "      <td>0.0</td>\n",
       "      <td>5.0</td>\n",
       "      <td>0.0</td>\n",
       "      <td>2.0</td>\n",
       "      <td>1.0</td>\n",
       "      <td>6.0</td>\n",
       "      <td>3.0</td>\n",
       "    </tr>\n",
       "    <tr>\n",
       "      <th>3</th>\n",
       "      <td>19.0</td>\n",
       "      <td>0</td>\n",
       "      <td>25.0</td>\n",
       "      <td>5</td>\n",
       "      <td>31000.0</td>\n",
       "      <td>2.0</td>\n",
       "      <td>1.0</td>\n",
       "      <td>0.0</td>\n",
       "      <td>0.0</td>\n",
       "      <td>2.0</td>\n",
       "      <td>...</td>\n",
       "      <td>6.0</td>\n",
       "      <td>4.0</td>\n",
       "      <td>0.0</td>\n",
       "      <td>4.0</td>\n",
       "      <td>6.0</td>\n",
       "      <td>0.0</td>\n",
       "      <td>1.0</td>\n",
       "      <td>1.0</td>\n",
       "      <td>0.0</td>\n",
       "      <td>4.0</td>\n",
       "    </tr>\n",
       "    <tr>\n",
       "      <th>4</th>\n",
       "      <td>42.0</td>\n",
       "      <td>2</td>\n",
       "      <td>13.0</td>\n",
       "      <td>1</td>\n",
       "      <td>40000.0</td>\n",
       "      <td>0.0</td>\n",
       "      <td>1.0</td>\n",
       "      <td>0.0</td>\n",
       "      <td>0.0</td>\n",
       "      <td>1.0</td>\n",
       "      <td>...</td>\n",
       "      <td>6.0</td>\n",
       "      <td>6.0</td>\n",
       "      <td>0.0</td>\n",
       "      <td>0.0</td>\n",
       "      <td>6.0</td>\n",
       "      <td>1.0</td>\n",
       "      <td>1.0</td>\n",
       "      <td>0.0</td>\n",
       "      <td>5.0</td>\n",
       "      <td>4.0</td>\n",
       "    </tr>\n",
       "  </tbody>\n",
       "</table>\n",
       "<p>5 rows × 54 columns</p>\n",
       "</div>"
      ],
      "text/plain": [
       "    age  gender  education  marital   income  phq_1  phq_2  phq_3  phq_4  \\\n",
       "0  42.0       1        5.0        1  18000.0    0.0    0.0    1.0    0.0   \n",
       "1  51.0       3       18.0        1  23000.0    0.0    0.0    0.0    0.0   \n",
       "2  40.0       0        8.0        1  10000.0    0.0    0.0    0.0    0.0   \n",
       "3  19.0       0       25.0        5  31000.0    2.0    1.0    0.0    0.0   \n",
       "4  42.0       2       13.0        1  40000.0    0.0    1.0    0.0    0.0   \n",
       "\n",
       "   phq_5  ...  ccs_3  ccs_4  ccs_5  ccs_6  ccs_7  ccs_8  ccs_9  ccs_10  \\\n",
       "0    0.0  ...    5.0    1.0    4.0    3.0    0.0    4.0    0.0     0.0   \n",
       "1    0.0  ...    3.0    6.0    6.0    1.0    0.0    1.0    4.0     0.0   \n",
       "2    1.0  ...    6.0    6.0    6.0    0.0    5.0    0.0    2.0     1.0   \n",
       "3    2.0  ...    6.0    4.0    0.0    4.0    6.0    0.0    1.0     1.0   \n",
       "4    1.0  ...    6.0    6.0    0.0    0.0    6.0    1.0    1.0     0.0   \n",
       "\n",
       "   ccs_11  ccs_12  \n",
       "0     3.0     1.0  \n",
       "1     3.0     6.0  \n",
       "2     6.0     3.0  \n",
       "3     0.0     4.0  \n",
       "4     5.0     4.0  \n",
       "\n",
       "[5 rows x 54 columns]"
      ]
     },
     "execution_count": 37,
     "metadata": {},
     "output_type": "execute_result"
    }
   ],
   "source": [
    "df_in.head()"
   ]
  },
  {
   "cell_type": "code",
   "execution_count": 38,
   "metadata": {
    "colab": {
     "base_uri": "https://localhost:8080/",
     "height": 829
    },
    "id": "30c60da7",
    "outputId": "092bae88-2af0-421e-ffde-58701e24ce34"
   },
   "outputs": [
    {
     "data": {
      "image/png": "[encoded data removed]",
      "text/plain": [
       "<Figure size 2000x1600 with 56 Axes>"
      ]
     },
     "metadata": {},
     "output_type": "display_data"
    }
   ],
   "source": [
    "df_in.hist(bins=10, figsize=(20, 16), color='skyblue', edgecolor='black')\n",
    "\n",
    "plt.show()"
   ]
  },
  {
   "cell_type": "code",
   "execution_count": 39,
   "metadata": {
    "id": "0aDOh6We2SP9"
   },
   "outputs": [],
   "source": [
    "#Correct the eheals extreme\n",
    "for col in [\"eheals_1\", \"eheals_2\", \"eheals_3\", \"eheals_4\", \"eheals_5\", \"eheals_6\", \"eheals_7\", \"eheals_8\"]:\n",
    "  checkExtreme(df_in, col, 1, 5)"
   ]
  },
  {
   "cell_type": "code",
   "execution_count": 40,
   "metadata": {
    "id": "dZaZnK8F2peJ"
   },
   "outputs": [],
   "source": [
    "# Reverse the score of some ccs questions\n",
    "cols = [\"ccs_3\", \"ccs_6\", \"ccs_7\", \"ccs_12\"]\n",
    "df_in = reverseScore(df_in, cols, 6)"
   ]
  },
  {
   "cell_type": "code",
   "execution_count": 41,
   "metadata": {
    "id": "w-gK2rbBr0rQ"
   },
   "outputs": [],
   "source": [
    "df_in_scaled, df_in_scaler = compute_scaled_df(df_in, cols_to_scale)\n",
    "df_in_scaled = preprocess_nominalVariable(df_in_scaled)"
   ]
  },
  {
   "cell_type": "code",
   "execution_count": 42,
   "metadata": {
    "colab": {
     "base_uri": "https://localhost:8080/",
     "height": 755
    },
    "id": "2a7a8c54",
    "outputId": "0ab60a35-bd13-496d-c51f-e92b2eda2e0a"
   },
   "outputs": [
    {
     "data": {
      "image/png": "[encoded data removed]",
      "text/plain": [
       "<Figure size 1200x800 with 1 Axes>"
      ]
     },
     "metadata": {},
     "output_type": "display_data"
    }
   ],
   "source": [
    "#Outliers\n",
    "import pandas as pd\n",
    "import seaborn as sns\n",
    "import matplotlib.pyplot as plt\n",
    "\n",
    "plt.figure(figsize=(12, 8))\n",
    "sns.boxplot(data=df_in_scaled)\n",
    "plt.xticks(rotation=45, ha=\"right\")\n",
    "plt.show()"
   ]
  },
  {
   "cell_type": "markdown",
   "metadata": {
    "id": "eab9b57d"
   },
   "source": [
    "We decided to not remove any outliers"
   ]
  },
  {
   "cell_type": "markdown",
   "metadata": {
    "id": "J3FNl9zjvm-N"
   },
   "source": [
    "# Save the clean Dataset"
   ]
  },
  {
   "cell_type": "code",
   "execution_count": 43,
   "metadata": {
    "id": "IQOEHHvJGU9O"
   },
   "outputs": [],
   "source": [
    "#Save the clean dataset\n",
    "df_in.to_csv('CleanDataset.csv', index = False)"
   ]
  }
 ],
 "metadata": {
  "colab": {
   "collapsed_sections": [
    "pZrsLMv46AmJ",
    "fbfc66fe"
   ],
   "provenance": [],
   "toc_visible": true
  },
  "kernelspec": {
   "display_name": "Python 3 (ipykernel)",
   "language": "python",
   "name": "python3"
  },
  "language_info": {
   "codemirror_mode": {
    "name": "ipython",
    "version": 3
   },
   "file_extension": ".py",
   "mimetype": "text/x-python",
   "name": "python",
   "nbconvert_exporter": "python",
   "pygments_lexer": "ipython3",
   "version": "3.9.13"
  }
 },
 "nbformat": 4,
 "nbformat_minor": 1
}
